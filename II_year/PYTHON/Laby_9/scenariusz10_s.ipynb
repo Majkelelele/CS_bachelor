{
 "cells": [
  {
   "cell_type": "markdown",
   "metadata": {},
   "source": [
    "## Środowisko wirtualne\n",
    "\n",
    "Środowisko wirtualne (virtual environment) w Pythonie to narzędzie, które umożliwia tworzenie izolowanych przestrzeni dla projektów Pythonowych. Każde środowisko wirtualne ma własne miejsce do przechowywania interpretera języka Python oraz zestawu bibliotek. Dzięki temu można mieć różne wersje bibliotek dla różnych projektów, co zapobiega konfliktom między zależnościami.\n",
    "\n",
    "Oto główne cechy i korzyści środowiska wirtualnego:\n",
    "\n",
    "Izolacja zależności: Każdy projekt może mieć własne, niezależne od innych, zależności, co jest szczególnie przydatne, gdy różne projekty wymagają różnych wersji tej samej biblioteki.\n",
    "\n",
    "Ułatwienie współpracy: Środowiska wirtualne umożliwiają tworzenie plików requirements.txt, które zawierają listę wszystkich bibliotek potrzebnych do danego projektu. Dzięki temu inni programiści mogą łatwo zainstalować te same zależności i pracować nad tym samym kodem.\n",
    "\n",
    "Prostota zarządzania: Używając narzędzi takich jak `venv` (wbudowanego w Pythona od wersji 3.3) lub `virtualenv` (narzędzie zewnętrzne), można łatwo tworzyć i zarządzać wieloma środowiskami wirtualnymi.\n",
    "\n",
    "Ochrona systemu: Ponieważ środowiska wirtualne są odizolowane od głównego systemu, instalacja i testowanie różnych pakietów nie wpływa na resztę systemu.\n",
    "\n",
    "Elastyczność: Środowiska wirtualne pozwalają na eksperymentowanie z różnymi konfiguracjami i wersjami pakietów, co jest przydatne w procesie nauki, eksperymentowania lub rozwiązywania specyficznych problemów projektowych.\n",
    "\n",
    "Aby utworzyć środowisko wirtualne w Pythonie, można użyć polecenia `python -m venv nazwa_srodowiska`, a następnie aktywować je za pomocą `source nazwa_srodowiska/bin/activate` na systemach Unixowych lub `nazwa_srodowiska\\Scripts\\activate` na Windows. Po aktywacji środowiska można instalować pakiety za pomocą `pip`, które będą dostępne tylko w tym środowisku."
   ]
  },
  {
   "cell_type": "code",
   "execution_count": 2,
   "metadata": {
    "vscode": {
     "languageId": "powershell"
    }
   },
   "outputs": [
    {
     "ename": "SyntaxError",
     "evalue": "invalid syntax (3726128072.py, line 1)",
     "output_type": "error",
     "traceback": [
      "\u001b[0;36m  Cell \u001b[0;32mIn [2], line 1\u001b[0;36m\u001b[0m\n\u001b[0;31m    python -m venv myenv #tworzenie środowiska wirtualnego\u001b[0m\n\u001b[0m              ^\u001b[0m\n\u001b[0;31mSyntaxError\u001b[0m\u001b[0;31m:\u001b[0m invalid syntax\n"
     ]
    }
   ],
   "source": [
    "python -m venv myenv #tworzenie środowiska wirtualnego\n",
    "source myenv/bin/activate #aktywacja środowiska wirtualnego\n",
    "pip install -r requirements.txt #instalacja wymaganych pakietów\n",
    "#deaktywacja środowiska wirtualnego\n",
    "deactivate\n",
    "#usunięcie środowiska wirtualnego\n",
    "rm -rf myenv"
   ]
  },
  {
   "cell_type": "markdown",
   "metadata": {},
   "source": [
    "## flakes8\n",
    "\n",
    "flakes8 - narzędzie do sprawdzania jakości kodu Pythona\n",
    "\n",
    "flake8 to narzędzie do sprawdzania jakości kodu Pythona. Sprawdza ono kod pod kątem zgodności z wybranym zestawem reguł, takich jak PEP 8, a także wykrywa błędy logiczne, takie jak nieużywane zmienne czy nieużywane importy. Narzędzie to jest szczególnie przydatne w dużych projektach, w których trudno jest ręcznie sprawdzać kod pod kątem zgodności z wybranymi regułami. Flake8 można zainstalować za pomocą `pip install flake8`. Aby uruchomić flake8, należy przejść do katalogu z kodem i wykonać polecenie `flake8 .`, gdzie `.` oznacza bieżący katalog. Po uruchomieniu flake8 wyświetli on listę ostrzeżeń i błędów, które znalazł w kodzie. Plik `.flake8` zawiera konfigurację flake8. Można w nim określić, które reguły mają być sprawdzane, a które nie. Można również określić, które reguły mają być uznawane za błędy, a które za ostrzeżenia. Więcej informacji na temat konfiguracji flake8 można znaleźć w dokumentacji na stronie https://flake8.pycqa.org/en/latest/user/configuration.html.\n",
    "\n",
    "Inne narzędzia do sprawdzania jakości kodu Pythona to:\n",
    " - pylint - narzędzie do sprawdzania jakości kodu Pythona\n",
    " - black - narzędzie do formatowania kodu Pythona.\n",
    "\n",
    "Z powodu istnienia IDE (jak np. pycharm) postanowiłem jedynie wspomnieć o nich w tym scenariuszu.\n",
    "Więcej informacji na temat tych narzędzi można znaleźć w dokumentacji na stronie https://www.pylint.org/ i https://black.readthedocs.io/en/stable/. Oraz w artykułach:\n",
    "https://medium.com/@huzaifazahoor654/improving-code-quality-with-flake8-and-black-a-guide-for-python-developers-c374168d5884 i https://pythonspeed.com/articles/pylint-flake8-ruff/\n",
    "\n",
    "Nie zamierzam w tym scenariuszu omawiać tych narzędzi, ponieważ nie są one niezbędne do pracy z Pythonem, a ich omówienie prowadziłoby do dyskusji na temat tego, które narzędzia są lepsze, a które gorsze. Warto jednak wiedzieć, że istnieją takie narzędzia i że można z nich korzystać. Zalecam zapoznanie się z nimi w wolnym czasie i wybrania najlepszego."
   ]
  },
  {
   "cell_type": "markdown",
   "metadata": {},
   "source": [
    "## pydantic\n",
    "\n",
    "Biblioteka pydantic w języku Python służy do obsługi i walidacji danych przy użyciu modeli danych opartych na standardowych typach"
   ]
  },
  {
   "cell_type": "code",
   "execution_count": 2,
   "metadata": {
    "ExecuteTime": {
     "end_time": "2023-12-11T12:15:43.749625700Z",
     "start_time": "2023-12-11T12:15:37.980422600Z"
    }
   },
   "outputs": [
    {
     "name": "stdout",
     "output_type": "stream",
     "text": [
      "^C\n",
      "Traceback (most recent call last):\n",
      "  File \"/bin/pip\", line 5, in <module>\n",
      "    from pip._internal.cli.main import main\n",
      "  File \"/usr/lib/python3/dist-packages/pip/_internal/cli/main.py\", line 9, in <module>\n",
      "    from pip._internal.cli.autocompletion import autocomplete\n",
      "  File \"/usr/lib/python3/dist-packages/pip/_internal/cli/autocompletion.py\", line 10, in <module>\n",
      "    from pip._internal.cli.main_parser import create_main_parser\n",
      "  File \"/usr/lib/python3/dist-packages/pip/_internal/cli/main_parser.py\", line 9, in <module>\n",
      "    from pip._internal.build_env import get_runnable_pip\n",
      "  File \"/usr/lib/python3/dist-packages/pip/_internal/build_env.py\", line 19, in <module>\n",
      "    from pip._internal.cli.spinners import open_spinner\n",
      "  File \"/usr/lib/python3/dist-packages/pip/_internal/cli/spinners.py\", line 9, in <module>\n",
      "    from pip._internal.utils.logging import get_indentation\n",
      "  File \"/usr/lib/python3/dist-packages/pip/_internal/utils/logging.py\", line 29, in <module>\n",
      "    from pip._internal.utils.misc import ensure_dir\n",
      "  File \"/usr/lib/python3/dist-packages/pip/_internal/utils/misc.py\", line 39, in <module>\n",
      "    from pip._vendor.tenacity import retry, stop_after_delay, wait_fixed\n",
      "  File \"/usr/lib/python3/dist-packages/pip/_vendor/tenacity/__init__.py\", line 30, in <module>\n",
      "    from .retry import retry_base  # noqa\n",
      "    ^^^^^^^^^^^^^^^^^^^^^^^^^^^^^\n",
      "  File \"/usr/lib/python3/dist-packages/pip/_vendor/tenacity/retry.py\", line 72, in <module>\n",
      "    class retry_if_exception_type(retry_if_exception):\n",
      "  File \"/usr/lib/python3/dist-packages/pip/_vendor/tenacity/retry.py\", line 79, in retry_if_exception_type\n",
      "    typing.Tuple[typing.Type[BaseException], ...],\n",
      "    ~~~~~~~~~~~~^^^^^^^^^^^^^^^^^^^^^^^^^^^^^^^^^\n",
      "  File \"/usr/lib/python3.11/typing.py\", line 341, in inner\n",
      "    return cached(*args, **kwds)\n",
      "           ^^^^^^^^^^^^^^^^^^^^^\n",
      "  File \"/usr/lib/python3.11/typing.py\", line 1622, in __getitem__\n",
      "    return self.copy_with((*params, _TypingEllipsis))\n",
      "           ^^^^^^^^^^^^^^^^^^^^^^^^^^^^^^^^^^^^^^^^^^\n",
      "  File \"/usr/lib/python3.11/typing.py\", line 1541, in copy_with\n",
      "    return _GenericAlias(self.__origin__, params,\n",
      "           ^^^^^^^^^^^^^^^^^^^^^^^^^^^^^^^^^^^^^^\n",
      "  File \"/usr/lib/python3.11/typing.py\", line 1335, in __init__\n",
      "    super().__init__(origin, inst=inst, name=name)\n",
      "  File \"/usr/lib/python3.11/typing.py\", line 1239, in __init__\n",
      "    self._inst = inst\n",
      "    ^^^^^^^^^^\n",
      "  File \"/usr/lib/python3.11/typing.py\", line 1278, in __setattr__\n",
      "    if _is_dunder(attr) or attr in {'_name', '_inst', '_nparams',\n",
      "       ^^^^^^^^^^^^^^^^\n",
      "  File \"/usr/lib/python3.11/typing.py\", line 1227, in _is_dunder\n",
      "    return attr.startswith('__') and attr.endswith('__')\n",
      "           ^^^^^^^^^^^^^^^^^^^^^\n",
      "KeyboardInterrupt\n"
     ]
    }
   ],
   "source": [
    "# install pydantic\n",
    "!pip install pydantic\n"
   ]
  },
  {
   "cell_type": "markdown",
   "metadata": {},
   "source": [
    "Model to klasa dziedzicząca po klasie `BaseModel` z biblioteki pydantic"
   ]
  },
  {
   "cell_type": "code",
   "execution_count": 3,
   "metadata": {
    "ExecuteTime": {
     "end_time": "2023-12-11T12:16:11.470669200Z",
     "start_time": "2023-12-11T12:16:11.135846400Z"
    }
   },
   "outputs": [
    {
     "ename": "ModuleNotFoundError",
     "evalue": "No module named 'pydantic'",
     "output_type": "error",
     "traceback": [
      "\u001b[0;31m---------------------------------------------------------------------------\u001b[0m",
      "\u001b[0;31mModuleNotFoundError\u001b[0m                       Traceback (most recent call last)",
      "Cell \u001b[0;32mIn [3], line 1\u001b[0m\n\u001b[0;32m----> 1\u001b[0m \u001b[38;5;28;01mfrom\u001b[39;00m \u001b[38;5;21;01mpydantic\u001b[39;00m \u001b[38;5;28;01mimport\u001b[39;00m BaseModel\n\u001b[1;32m      3\u001b[0m \u001b[38;5;28;01mclass\u001b[39;00m \u001b[38;5;21;01mUser\u001b[39;00m(BaseModel):\n\u001b[1;32m      4\u001b[0m     \u001b[38;5;28mid\u001b[39m: \u001b[38;5;28mint\u001b[39m\n",
      "\u001b[0;31mModuleNotFoundError\u001b[0m: No module named 'pydantic'"
     ]
    }
   ],
   "source": [
    "from pydantic import BaseModel\n",
    "\n",
    "class User(BaseModel):\n",
    "    id: int\n",
    "    name: str\n",
    "    age: int\n",
    "    is_active: bool\n",
    "\n",
    "user = User(id=123, name=\"Jan Kowalski\", age=30, is_active=True)"
   ]
  },
  {
   "cell_type": "markdown",
   "metadata": {},
   "source": [
    "Przykład walidacji danych przy użyciu modelu:"
   ]
  },
  {
   "cell_type": "code",
   "execution_count": 4,
   "metadata": {
    "ExecuteTime": {
     "end_time": "2023-12-11T12:20:27.039142900Z",
     "start_time": "2023-12-11T12:20:26.987261400Z"
    }
   },
   "outputs": [
    {
     "ename": "ModuleNotFoundError",
     "evalue": "No module named 'pydantic'",
     "output_type": "error",
     "traceback": [
      "\u001b[0;31m---------------------------------------------------------------------------\u001b[0m",
      "\u001b[0;31mModuleNotFoundError\u001b[0m                       Traceback (most recent call last)",
      "Cell \u001b[0;32mIn [4], line 1\u001b[0m\n\u001b[0;32m----> 1\u001b[0m \u001b[38;5;28;01mfrom\u001b[39;00m \u001b[38;5;21;01mpydantic\u001b[39;00m \u001b[38;5;28;01mimport\u001b[39;00m field_validator\n\u001b[1;32m      3\u001b[0m \u001b[38;5;28;01mclass\u001b[39;00m \u001b[38;5;21;01mUser\u001b[39;00m(BaseModel):\n\u001b[1;32m      4\u001b[0m     \u001b[38;5;28mid\u001b[39m: \u001b[38;5;28mint\u001b[39m\n",
      "\u001b[0;31mModuleNotFoundError\u001b[0m: No module named 'pydantic'"
     ]
    }
   ],
   "source": [
    "from pydantic import field_validator\n",
    "\n",
    "class User(BaseModel):\n",
    "    id: int\n",
    "    name: str\n",
    "    age: int\n",
    "    is_active: bool = True\n",
    "    \n",
    "    @field_validator('age')\n",
    "    def age_must_be_positive(cls, value):\n",
    "        if value < 0:\n",
    "            raise ValueError('age must be positive')\n",
    "        return value"
   ]
  },
  {
   "cell_type": "markdown",
   "metadata": {},
   "source": [
    "Przykład Użycia:"
   ]
  },
  {
   "cell_type": "code",
   "execution_count": 10,
   "metadata": {
    "ExecuteTime": {
     "end_time": "2023-12-11T12:21:35.710313200Z",
     "start_time": "2023-12-11T12:21:35.668929100Z"
    }
   },
   "outputs": [
    {
     "name": "stdout",
     "output_type": "stream",
     "text": [
      "1 validation error for User\n",
      "age\n",
      "  Value error, age must be positive [type=value_error, input_value=-30, input_type=int]\n",
      "    For further information visit https://errors.pydantic.dev/2.5/v/value_error\n"
     ]
    }
   ],
   "source": [
    "try:\n",
    "    user = User(id=123, name=\"Jan Kowalski\", age=-30, is_active=True)\n",
    "except Exception as e:\n",
    "    print(e)"
   ]
  },
  {
   "cell_type": "markdown",
   "metadata": {
    "pycharm": {
     "name": "#%% md\n"
    }
   },
   "source": [
    "**Serializacja i deserializacja:**"
   ]
  },
  {
   "cell_type": "code",
   "execution_count": 12,
   "metadata": {
    "ExecuteTime": {
     "end_time": "2023-12-11T12:22:46.735837700Z",
     "start_time": "2023-12-11T12:22:46.712871500Z"
    }
   },
   "outputs": [
    {
     "name": "stdout",
     "output_type": "stream",
     "text": [
      "{\"id\":123,\"name\":\"Jan Kowalski\",\"age\":-30,\"is_active\":true}\n",
      "{'id': 123, 'name': 'Jan Kowalski', 'age': -30, 'is_active': True}\n"
     ]
    }
   ],
   "source": [
    "print(user.model_dump_json())\n",
    "print(user.model_dump())"
   ]
  },
  {
   "cell_type": "markdown",
   "metadata": {
    "collapsed": false
   },
   "source": [
    "Zobacz dokumentację https://docs.pydantic.dev/latest/concepts/serialization/"
   ]
  },
  {
   "cell_type": "code",
   "execution_count": 14,
   "metadata": {
    "ExecuteTime": {
     "end_time": "2023-12-11T12:27:52.499606200Z",
     "start_time": "2023-12-11T12:27:52.471304800Z"
    },
    "collapsed": false
   },
   "outputs": [
    {
     "data": {
      "text/plain": [
       "'Jan Kowalski'"
      ]
     },
     "execution_count": 14,
     "metadata": {},
     "output_type": "execute_result"
    }
   ],
   "source": [
    "sł = user.model_dump()      # obiekt - > słownik\n",
    "sł['name']"
   ]
  },
  {
   "cell_type": "markdown",
   "metadata": {},
   "source": [
    "## Typy generyczne\n",
    "\n",
    "Typy generyczne w Pythonie to mechanizm pozwalający na pisanie kodu, który może być stosowany do różnych typów danych bez utraty informacji o tych typach. Python, począwszy od wersji 3.5, oferuje wsparcie dla typów generycznych poprzez moduł typing.\n",
    "\n",
    "Oto kilka kluczowych koncepcji i przykładów związanych z typami generycznymi w Pythonie:\n",
    "\n",
    "`List[T]` - Oznacza listę, której wszystkie elementy są tego samego typu. Na przykład `List[int]` oznacza listę liczb całkowitych."
   ]
  },
  {
   "cell_type": "code",
   "execution_count": 15,
   "metadata": {
    "ExecuteTime": {
     "end_time": "2023-12-11T12:28:46.774860900Z",
     "start_time": "2023-12-11T12:28:46.761895100Z"
    }
   },
   "outputs": [],
   "source": [
    "from typing import List\n",
    "numbers: List[int] = [1, 2, 3]"
   ]
  },
  {
   "cell_type": "code",
   "execution_count": 16,
   "metadata": {
    "ExecuteTime": {
     "end_time": "2023-12-11T12:28:47.847330700Z",
     "start_time": "2023-12-11T12:28:47.826355100Z"
    }
   },
   "outputs": [],
   "source": [
    "from typing import Dict\n",
    "ages: Dict[str, int] = {\"Alice\": 30, \"Bob\": 25}"
   ]
  },
  {
   "cell_type": "code",
   "execution_count": 17,
   "metadata": {
    "ExecuteTime": {
     "end_time": "2023-12-11T12:28:48.596036Z",
     "start_time": "2023-12-11T12:28:48.582070400Z"
    }
   },
   "outputs": [],
   "source": [
    "from typing import Generic, TypeVar\n",
    "\n",
    "T = TypeVar('T')\n",
    "\n",
    "class Box(Generic[T]):\n",
    "    def __init__(self, item: T):\n",
    "        self.item = item\n",
    "\n",
    "    def get(self) -> T:\n",
    "        return self.ite"
   ]
  },
  {
   "cell_type": "markdown",
   "metadata": {},
   "source": []
  },
  {
   "cell_type": "markdown",
   "metadata": {
    "collapsed": false
   },
   "source": [
    "### typing"
   ]
  },
  {
   "cell_type": "markdown",
   "metadata": {
    "collapsed": false
   },
   "source": [
    "Oto kilka kluczowych koncepcji i przykładów związanych z typami generycznymi w Pythonie:\n",
    "\n",
    "`List[T]` - Oznacza listę, której wszystkie elementy są tego samego typu. Na przykład `List[int]` oznacza listę liczb całkowitych."
   ]
  },
  {
   "cell_type": "code",
   "execution_count": 18,
   "metadata": {
    "ExecuteTime": {
     "end_time": "2023-12-11T12:32:13.030520900Z",
     "start_time": "2023-12-11T12:32:13.019517900Z"
    },
    "collapsed": false
   },
   "outputs": [],
   "source": [
    "from typing import List\n",
    "numbers: List[int] = [1, 2, 3]"
   ]
  },
  {
   "cell_type": "markdown",
   "metadata": {
    "collapsed": false
   },
   "source": [
    "`Dict[K, V]` - Słownik, gdzie K oznacza typ klucza, a V typ wartości. Na przykład `Dict[str, int]` oznacza słownik z kluczami typu `string` i wartościami typu `int`."
   ]
  },
  {
   "cell_type": "code",
   "execution_count": 19,
   "metadata": {
    "ExecuteTime": {
     "end_time": "2023-12-11T12:33:06.417830100Z",
     "start_time": "2023-12-11T12:33:06.390966600Z"
    },
    "collapsed": false
   },
   "outputs": [],
   "source": [
    "from typing import Dict\n",
    "ages: Dict[str, int] = {\"Alice\": 30, \"Bob\": 25}"
   ]
  },
  {
   "cell_type": "markdown",
   "metadata": {
    "collapsed": false
   },
   "source": [
    "`Tuple[T1, T2, ...]` - Krotka, w której każdy element ma zdefiniowany typ. Na przykład `Tuple[int, str, float]` oznacza krotkę składającą się z liczby całkowitej, łańcucha znaków i liczby zmiennoprzecinkowej."
   ]
  },
  {
   "cell_type": "code",
   "execution_count": 20,
   "metadata": {
    "ExecuteTime": {
     "end_time": "2023-12-11T12:34:21.317811700Z",
     "start_time": "2023-12-11T12:34:21.278531600Z"
    },
    "collapsed": false
   },
   "outputs": [],
   "source": [
    "from typing import Tuple\n",
    "person: Tuple[int, str, float] = (1, \"Alice\", 4.5)"
   ]
  },
  {
   "cell_type": "markdown",
   "metadata": {
    "collapsed": false
   },
   "source": [
    "A pamiętacie z Programowania Obiektowego **optional**? :) (https://docs.oracle.com/javase/8/docs/api/java/util/Optional.html)\n",
    "\n",
    "`Optional[T]` - Typ, który może być albo typem T, albo None. Jest to przydatne w przypadku funkcji, które mogą zwracać None jako wartość."
   ]
  },
  {
   "cell_type": "code",
   "execution_count": 21,
   "metadata": {
    "ExecuteTime": {
     "end_time": "2023-12-11T12:36:59.348405Z",
     "start_time": "2023-12-11T12:36:59.318581300Z"
    },
    "collapsed": false
   },
   "outputs": [],
   "source": [
    "from typing import Optional\n",
    "def get_age(name: str) -> Optional[int]:\n",
    "    if name == \"Alice\":\n",
    "        return 30\n",
    "    else:\n",
    "        return None"
   ]
  },
  {
   "cell_type": "markdown",
   "metadata": {
    "collapsed": false
   },
   "source": [
    "`TypeVar` - Umożliwia tworzenie typów generycznych. `TypeVar` jest używane do zdefiniowania zmiennej typu, która może być dowolnym typem."
   ]
  },
  {
   "cell_type": "code",
   "execution_count": 22,
   "metadata": {
    "ExecuteTime": {
     "end_time": "2023-12-11T12:38:20.841229800Z",
     "start_time": "2023-12-11T12:38:20.796090600Z"
    },
    "collapsed": false
   },
   "outputs": [],
   "source": [
    "from typing import TypeVar, List\n",
    "\n",
    "T = TypeVar('T')\n",
    "def first(lst: List[T]) -> T:\n",
    "    return lst[0]"
   ]
  },
  {
   "cell_type": "markdown",
   "metadata": {
    "collapsed": false
   },
   "source": [
    "`Generic[T]` - Używane do tworzenia klas generycznych. Pozwala na definiowanie klas, które mogą działać z różnymi typami."
   ]
  },
  {
   "cell_type": "code",
   "execution_count": 1,
   "metadata": {
    "ExecuteTime": {
     "end_time": "2023-12-11T12:39:03.718193800Z",
     "start_time": "2023-12-11T12:39:03.690195700Z"
    },
    "collapsed": false
   },
   "outputs": [],
   "source": [
    "from typing import Generic, TypeVar\n",
    "\n",
    "T = TypeVar('T')\n",
    "\n",
    "class Box(Generic[T]):\n",
    "    def __init__(self, item: T):\n",
    "        self.item = item\n",
    "\n",
    "    def get(self) -> T:\n",
    "        return self.item"
   ]
  },
  {
   "cell_type": "markdown",
   "metadata": {
    "collapsed": false
   },
   "source": [
    "Te mechanizmy pozwalają na pisanie bardziej precyzyjnego i bezpiecznego kodu, który jest lepiej dokumentowany i łatwiejszy w utrzymaniu."
   ]
  },
  {
   "cell_type": "markdown",
   "metadata": {
    "collapsed": false
   },
   "source": [
    "## Zadanie1: Implementacja Dekoratora do Buforowania Typowo-Świadomego\n",
    "Cel: Stworzyć uniwersalny dekorator do buforowania w Pythonie, który można zastosować do dowolnej funkcji, niezależnie od jej sygnatury, i który buforuje jej wyniki na podstawie argumentów, z którymi jest wywoływana. Bufor powinien być świadomy typów, co oznacza, że powinien przechowywać różne wpisy dla argumentów różnych typów, nawet jeśli mają tę samą wartość.\n",
    "\n",
    "Wymagania:\n",
    "- Użyj typów generycznych, aby dekorator był jak najbardziej elastyczny.\n",
    "- Zapewnij bezpieczeństwo typów, aby bufor nie mieszał wartości między różnymi typami.\n",
    "- Zaimplementuj mechanizm ograniczający rozmiar bufora, aby zapobiec problemom z pamięcią."
   ]
  },
  {
   "cell_type": "code",
   "execution_count": 25,
   "metadata": {
    "ExecuteTime": {
     "end_time": "2023-12-11T12:43:37.616163700Z",
     "start_time": "2023-12-11T12:43:37.570282600Z"
    },
    "collapsed": false
   },
   "outputs": [],
   "source": []
  },
  {
   "cell_type": "markdown",
   "metadata": {},
   "source": [
    "Kompleksowe Dziedziczenie i Walidacja Modeli w Pydantic (od teraz w wersji V1)"
   ]
  },
  {
   "cell_type": "code",
   "execution_count": 2,
   "metadata": {
    "ExecuteTime": {
     "end_time": "2023-12-11T12:58:07.291014300Z",
     "start_time": "2023-12-11T12:58:07.217800900Z"
    }
   },
   "outputs": [
    {
     "ename": "ModuleNotFoundError",
     "evalue": "No module named 'pydantic'",
     "output_type": "error",
     "traceback": [
      "\u001b[0;31m---------------------------------------------------------------------------\u001b[0m",
      "\u001b[0;31mModuleNotFoundError\u001b[0m                       Traceback (most recent call last)",
      "Cell \u001b[0;32mIn [2], line 1\u001b[0m\n\u001b[0;32m----> 1\u001b[0m \u001b[38;5;28;01mfrom\u001b[39;00m \u001b[38;5;21;01mpydantic\u001b[39;00m \u001b[38;5;28;01mimport\u001b[39;00m BaseModel, validator, Field\n\u001b[1;32m      2\u001b[0m \u001b[38;5;28;01mfrom\u001b[39;00m \u001b[38;5;21;01mtyping\u001b[39;00m \u001b[38;5;28;01mimport\u001b[39;00m Optional, Union\n\u001b[1;32m      4\u001b[0m \u001b[38;5;28;01mclass\u001b[39;00m \u001b[38;5;21;01mDynamicVehicle\u001b[39;00m(BaseModel):\n",
      "\u001b[0;31mModuleNotFoundError\u001b[0m: No module named 'pydantic'"
     ]
    }
   ],
   "source": [
    "from pydantic import BaseModel, validator, Field\n",
    "from typing import Optional, Union\n",
    "\n",
    "class DynamicVehicle(BaseModel):\n",
    "    make: str\n",
    "    model: str\n",
    "    is_electric: bool\n",
    "    battery_capacity: Optional[int] = None\n",
    "    fuel_capacity: Optional[int] = None\n",
    "\n",
    "    @validator('battery_capacity', always=True)\n",
    "    def validate_battery_capacity(cls, v, values):\n",
    "        if values.get('is_electric') and v is None:\n",
    "            raise ValueError('Battery capacity is required for electric vehicles')\n",
    "        return v\n",
    "\n",
    "    @validator('fuel_capacity', always=True)\n",
    "    def validate_fuel_capacity(cls, v, values):\n",
    "        if not values.get('is_electric') and v is None:\n",
    "            raise ValueError('Fuel capacity is required for non-electric vehicles')\n",
    "        return v\n",
    "\n",
    "    class Config:\n",
    "        extra = 'forbid'\n",
    "\n",
    "# Test the model with different configurations\n",
    "electric_car = DynamicVehicle(make='Tesla', model='Model S', is_electric=True, battery_capacity=100)\n",
    "gas_car = DynamicVehicle(make='Ford', model='Fiesta', is_electric=False, fuel_capacity=45)"
   ]
  },
  {
   "cell_type": "markdown",
   "metadata": {},
   "source": [
    "Model DynamicVehicle ma pola make, model, is_electric, battery_capacity i fuel_capacity.\n",
    "Pola battery_capacity i fuel_capacity są opcjonalne, ale ich wymagania są dynamicznie walidowane w zależności od wartości pola is_electric.\n",
    "Walidatory sprawdzają, czy odpowiednie pola są uzupełnione w zależności od tego, czy pojazd jest elektryczny, czy nie.\n",
    "Konfiguracja modelu zakazuje dodatkowych pól, co zwiększa ścisłość modelu."
   ]
  },
  {
   "cell_type": "code",
   "execution_count": null,
   "metadata": {},
   "outputs": [],
   "source": [
    "from pydantic import BaseModel, validator, conint, constr\n",
    "\n",
    "class Vehicle(BaseModel):\n",
    "    make: constr(min_length=2)\n",
    "    model: constr(min_length=2)\n",
    "\n",
    "    @validator('make', 'model')\n",
    "    def check_names(cls, v):\n",
    "        if not v.isalpha():\n",
    "            raise ValueError('Must contain only letters')\n",
    "        return v.title()\n",
    "\n",
    "class Car(Vehicle):\n",
    "    engine_type: constr(regex='^(diesel|petrol|electric|hybrid)$')\n",
    "\n",
    "    @validator('engine_type')\n",
    "    def check_engine_type(cls, v):\n",
    "        if v not in ['diesel', 'petrol', 'electric', 'hybrid']:\n",
    "            raise ValueError('Invalid engine type')\n",
    "        return v\n",
    "\n",
    "class Bicycle(Vehicle):\n",
    "    number_of_gears: conint(gt=0)\n",
    "\n",
    "# Test the models\n",
    "car = Car(make='Toyota', model='Corolla', engine_type='petrol')\n",
    "bicycle = Bicycle(make='Giant', model='Escape', number_of_gears=21)"
   ]
  },
  {
   "cell_type": "code",
   "execution_count": null,
   "metadata": {},
   "outputs": [],
   "source": [
    "# test Vehicle\n",
    "class TestVehicle:\n",
    "    def test_valid(self):\n",
    "        assert Vehicle(make='Toyota', model='Corolla')\n",
    "\n",
    "    def test_invalid(self):\n",
    "        try:\n",
    "            Vehicle(make='T', model='Corolla')\n",
    "        except ValueError as e:\n",
    "            assert str(e) == 'Must contain only letters'\n",
    "        else:\n",
    "            assert False, 'Should not have gotten here'"
   ]
  },
  {
   "cell_type": "markdown",
   "metadata": {
    "collapsed": false
   },
   "source": [
    "## Testy"
   ]
  },
  {
   "cell_type": "markdown",
   "metadata": {},
   "source": [
    "Testy w `pytest` przyjrzyj się testom w pliku test_pydantic.py, aby zobaczyć, jakie dane są przekazywane do modeli i jakie są oczekiwane wyniki."
   ]
  },
  {
   "cell_type": "code",
   "execution_count": 2,
   "metadata": {},
   "outputs": [],
   "source": [
    "# exmaple class with tests in pytest\n",
    "from typing import List\n",
    "import pytest\n",
    "class Stack:\n",
    "    def __init__(self):\n",
    "        self._items: List[int] = []\n",
    "\n",
    "    def push(self, item: int):\n",
    "        self._items.append(item)\n",
    "\n",
    "    def pop(self) -> int:\n",
    "        return self._items.pop()\n",
    "\n",
    "    def is_empty(self) -> bool:\n",
    "        return len(self._items) == 0\n",
    "\n",
    "    def peek(self) -> int:\n",
    "        return self._items[-1]\n",
    "\n",
    "    def size(self) -> int:\n",
    "        return len(self._items)\n",
    "\n",
    "def test_stack():\n",
    "    stack = Stack()\n",
    "    assert stack.is_empty()\n",
    "    stack.push(1)\n",
    "    stack.push(2)\n",
    "    stack.push(3)\n",
    "    assert stack.size() == 3\n",
    "    assert stack.peek() == 3\n",
    "    assert stack.pop() == 3\n",
    "    assert stack.pop() == 2\n",
    "    assert stack.pop() == 1\n",
    "    assert stack.is_empty()\n",
    "\n",
    "    with pytest.raises(IndexError):\n",
    "        stack.pop()\n",
    "        "
   ]
  },
  {
   "cell_type": "markdown",
   "metadata": {},
   "source": [
    "testy  parametryzowane w pytest testy parametryzowane to testy, które są uruchamiane wielokrotnie z różnymi zestawami danych. W tym przypadku testy parametryzowane są używane do przetestowania różnych kombinacji danych wejściowych i oczekiwanych wyników.\n"
   ]
  },
  {
   "cell_type": "code",
   "execution_count": null,
   "metadata": {},
   "outputs": [],
   "source": []
  },
  {
   "cell_type": "code",
   "execution_count": 3,
   "metadata": {},
   "outputs": [],
   "source": [
    "def dodaj(a, b):\n",
    "    return a + b\n",
    "\n",
    "@pytest.mark.parametrize(\"a, b, expected\", [12, 13, 20], [1, 2, 3], [1, 1, 2])\n",
    "def test_dodaj(a, b, expected):\n",
    "    assert dodaj(a, b) == expected\n",
    "\n"
   ]
  },
  {
   "cell_type": "markdown",
   "metadata": {},
   "source": [
    "Mockowanie w Pythonie\n",
    "mockowanie to technika, która pozwala na tworzenie obiektów, które zachowują się jak prawdziwe obiekty, ale są w rzeczywistości zastępowane przez kontrolowane przez nas obiekty. Mocki są bardzo przydatne w testowaniu jednostkowym, ponieważ pozwalają na symulowanie zależności, które są trudne do kontrolowania w testach jednostkowych.\n"
   ]
  },
  {
   "cell_type": "code",
   "execution_count": 9,
   "metadata": {},
   "outputs": [],
   "source": [
    "class FileReader: #klasa do czytania plików\n",
    "    def __init__(self, filename):\n",
    "        self.filename = filename\n",
    "\n",
    "    def read(self):\n",
    "        with open(self.filename, 'r') as file:\n",
    "            return file.read()\n"
   ]
  },
  {
   "cell_type": "code",
   "execution_count": 1,
   "metadata": {},
   "outputs": [],
   "source": [
    "import pytest\n",
    "from unittest.mock import mock_open, MagicMock\n",
    "# from your_module import FileReader  \n",
    "\n",
    "def test_read_file():\n",
    "    mock_data = 'testowe dane'\n",
    "    m = mock_open(read_data=mock_data)\n",
    "    with pytest.raises(FileNotFoundError):\n",
    "        FileReader(\"nieistniejacy_plik.txt\").read()\n",
    "    with pytest.monkeypatch.context() as mpatch:\n",
    "        mpatch.setattr(\"builtins.open\", m)\n",
    "        reader = FileReader(\"dummy.txt\")\n",
    "        result = reader.read()\n",
    "\n",
    "    m.assert_called_once_with(\"dummy.txt\", 'r')\n",
    "    assert result == mock_data"
   ]
  },
  {
   "cell_type": "markdown",
   "metadata": {},
   "source": [
    "fixture w pytest fixture to funkcja, która jest wywoływana przez pytest przed uruchomieniem każdego testu. Fixture może być używana do przygotowania danych testowych, które są współdzielone przez wiele testów. Fixture może również być używana do uruchamiania kodu po zakończeniu testu, np. do czyszczenia danych testowych."
   ]
  },
  {
   "cell_type": "code",
   "execution_count": 3,
   "metadata": {},
   "outputs": [],
   "source": [
    "import requests\n",
    "\n",
    "class WeatherService:\n",
    "    def __init__(self, api_key):\n",
    "        self.api_key = api_key\n",
    "\n",
    "    def get_current_weather(self, city):\n",
    "        url = f\"http://example.com/weather?city={city}&key={self.api_key}\"\n",
    "        response = requests.get(url)\n",
    "        return response.json()\n"
   ]
  },
  {
   "cell_type": "code",
   "execution_count": 4,
   "metadata": {},
   "outputs": [],
   "source": [
    "import pytest\n",
    "from unittest.mock import MagicMock, patch\n",
    "# from weather_service import WeatherService  # Replace with the actual module name\n",
    "\n",
    "@pytest.fixture\n",
    "def mock_weather_api_response():\n",
    "    return {\n",
    "        \"city\": \"London\",\n",
    "        \"temperature\": \"15°C\",\n",
    "        \"condition\": \"Cloudy\"\n",
    "    }\n",
    "\n",
    "def test_get_current_weather(mock_weather_api_response):\n",
    "    with patch('requests.get') as mock_get:\n",
    "        mock_get.return_value = MagicMock(status_code=200)\n",
    "        mock_get.return_value.json.return_value = mock_weather_api_response\n",
    "\n",
    "        service = WeatherService(api_key=\"dummy_key\")\n",
    "        weather = service.get_current_weather(\"London\")\n",
    "\n",
    "        assert weather == mock_weather_api_response\n",
    "        mock_get.assert_called_once_with(\"http://example.com/weather?city=London&key=dummy_key\")\n"
   ]
  },
  {
   "cell_type": "markdown",
   "metadata": {},
   "source": [
    "Wyjaśnienie Testu\n",
    "Mockowanie requests.get: Używamy patch, aby zastąpić requests.get obiektem MagicMock. Oznacza to, że podczas testu nie będą wykonywane żadne prawdziwe żądania HTTP.\n",
    "Ustawianie Zwracanych Wartości: Obiekt mock jest skonfigurowany do zwracania MagicMock jako odpowiedzi, a metoda json tej odpowiedzi mock jest ustawiona na zwracanie naszych wcześniej zdefiniowanych danych JSON.\n",
    "Asercja: Sprawdzamy, czy zwrócone dane pogodowe pasują do naszych danych mock i czy requests.get zostało wywołane z poprawnym adresem URL.\n",
    "Ten test skutecznie symuluje wywołanie zewnętrznego API i pozwala nam przetestować klasę WeatherService bez polegania na dostępności zewnętrznej usługi czy sieci.\n",
    "\n",
    "\n",
    "\n",
    "\n",
    "\n"
   ]
  },
  {
   "cell_type": "markdown",
   "metadata": {},
   "source": [
    "## Zadanie dnia zrób zadanie 1 oraz\n",
    "Rozszerz klasę ułamek z poprzedniego scenariusza o możliwość zapisywania i odczytywania ułamka z pliku tekstowego.\n",
    "Dopisz do niej testy parametryzowane, testy zapisywania i wczytywania ułamka z pliku tekstowego.\n",
    "Zrealizuj zadanie za pomocą mockowania i wykorzystując fixture."
   ]
  },
  {
   "cell_type": "markdown",
   "metadata": {},
   "source": []
  }
 ],
 "metadata": {
  "kernelspec": {
   "display_name": "Python 3",
   "language": "python",
   "name": "python3"
  },
  "language_info": {
   "codemirror_mode": {
    "name": "ipython",
    "version": 3
   },
   "file_extension": ".py",
   "mimetype": "text/x-python",
   "name": "python",
   "nbconvert_exporter": "python",
   "pygments_lexer": "ipython3",
   "version": "3.11.2"
  }
 },
 "nbformat": 4,
 "nbformat_minor": 2
}
