{
 "cells": [
  {
   "cell_type": "markdown",
   "metadata": {},
   "source": [
    "<kratka markdown>\n",
    "   Ten program wypisuje \"A kuku\".\n",
    "<kratka code>\n",
    "   <kod> print(\"A kuku\")\n",
    "   <wyjście> A kuku\n",
    "<kratka markdown>\n",
    "   ### Ćwiczenie 1\n",
    "   Napisz program wypisujący \"Ala ma kota\".\n",
    "<kratka code>\n",
    "   <kod> print(\"Ala ma kota\")\n",
    "   <wyjście> Ala ma kota"
   ]
  }
 ],
 "metadata": {
  "kernelspec": {
   "display_name": "Python 3",
   "language": "python",
   "name": "python3"
  },
  "language_info": {
   "name": "python",
   "version": "3.11.2"
  }
 },
 "nbformat": 4,
 "nbformat_minor": 2
}